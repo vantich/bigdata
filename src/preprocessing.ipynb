{
 "cells": [
  {
   "cell_type": "code",
   "execution_count": 2,
   "metadata": {},
   "outputs": [],
   "source": [
    "import numpy as np\n",
    "\n",
    "from pyspark.sql import SparkSession\n",
    "from pyspark.sql.types import *\n",
    "\n",
    "from pyspark import SparkConf\n",
    "conf = SparkConf()\n",
    "conf.set('spark.executor.memory', '2g')\n",
    "spark = SparkSession.builder.appName('kmeans').getOrCreate()\n",
    "# Load Data\n",
    "data = spark.read.csv(\"dataset/US_Accidents_Dec20_Updated.csv\", header=True, sep=\",\")"
   ]
  },
  {
   "cell_type": "code",
   "execution_count": 3,
   "metadata": {},
   "outputs": [
    {
     "name": "stdout",
     "output_type": "stream",
     "text": [
      "+----+------------------+-------------------+--------------+-----------+------------+--------------+\n",
      "|  ID|         Start_Lat|          Start_Lng|Temperature(F)|Humidity(%)|Pressure(in)|Visibility(mi)|\n",
      "+----+------------------+-------------------+--------------+-----------+------------+--------------+\n",
      "| A-1|         34.808868| -82.26915699999999|          76.0|       52.0|       28.91|          10.0|\n",
      "| A-2|          35.09008|          -80.74556|          76.0|       62.0|        29.3|          10.0|\n",
      "| A-3|          37.14573|        -121.985052|          51.0|       80.0|       30.17|          10.0|\n",
      "| A-4|          39.11039|        -119.773781|          53.6|       16.0|       30.16|          10.0|\n",
      "| A-5|26.102942000000002|         -80.265091|          84.2|       84.0|       29.92|          10.0|\n",
      "| A-6|35.348240000000004| -80.84722099999999|          73.4|       33.0|       30.17|          10.0|\n",
      "| A-7|          39.52397|           -107.777|          28.0|       88.0|       24.67|           2.0|\n",
      "| A-8|         34.034017|        -118.026972|          55.0|       40.0|       29.86|          10.0|\n",
      "| A-9|35.863490000000006|          -86.83168|          87.1|       43.0|       30.04|          10.0|\n",
      "|A-10|          34.42633|          -118.5851|          57.0|       77.0|       29.08|           5.0|\n",
      "|A-11|         28.021709|         -82.203583|          57.0|       88.0|       30.05|          10.0|\n",
      "|A-12|40.912209999999995|         -73.875099|          32.0|       61.0|        30.0|          10.0|\n",
      "|A-13|32.866929999999996|          -96.66617|          64.4|       32.0|       30.37|          10.0|\n",
      "|A-14|         32.265141|-110.90358700000002|          97.7|       16.0|        29.8|          10.0|\n",
      "|A-15|          41.05982|          -74.25092|          72.0|       71.0|        30.0|          10.0|\n",
      "|A-16|29.723339000000003|         -95.497337|          77.0|       71.0|        29.6|          10.0|\n",
      "|A-17|         34.103172|        -118.249969|          78.1|       60.0|       29.99|          10.0|\n",
      "|A-18|34.186595000000004|        -117.439427|          75.0|       26.0|       28.98|           9.0|\n",
      "|A-19|         42.501929|         -82.918056|          47.0|       66.0|       29.38|           7.0|\n",
      "|A-20|         41.556862|         -73.779556|          45.0|       63.0|       29.59|          10.0|\n",
      "+----+------------------+-------------------+--------------+-----------+------------+--------------+\n",
      "only showing top 20 rows\n",
      "\n"
     ]
    },
    {
     "data": {
      "text/plain": [
       "2906610"
      ]
     },
     "execution_count": 3,
     "metadata": {},
     "output_type": "execute_result"
    }
   ],
   "source": [
    "df = data[[\"ID\",\"Start_Lat\",\"Start_Lng\",\"Temperature(F)\", \"Humidity(%)\", \"Pressure(in)\", \"Visibility(mi)\",]]\n",
    "df.show()\n",
    "df.count()"
   ]
  },
  {
   "cell_type": "code",
   "execution_count": 4,
   "metadata": {},
   "outputs": [
    {
     "name": "stdout",
     "output_type": "stream",
     "text": [
      "root\n",
      " |-- ID: string (nullable = true)\n",
      " |-- Start_Lat: double (nullable = true)\n",
      " |-- Start_Lng: double (nullable = true)\n",
      " |-- Temperature(F): double (nullable = true)\n",
      " |-- Humidity(%): double (nullable = true)\n",
      " |-- Pressure(in): double (nullable = true)\n",
      " |-- Visibility(mi): double (nullable = true)\n",
      "\n"
     ]
    }
   ],
   "source": [
    "df = df.withColumn(\"Start_Lat\",df['Start_Lat'].cast(DoubleType()))\\\n",
    "    .withColumn(\"Start_Lng\",df['Start_Lng'].cast(DoubleType()))\\\n",
    "    .withColumn(\"Temperature(F)\",df['Temperature(F)'].cast(DoubleType()))\\\n",
    "    .withColumn(\"Humidity(%)\",df['Humidity(%)'].cast(DoubleType()))\\\n",
    "    .withColumn(\"Pressure(in)\",df['Pressure(in)'].cast(DoubleType()))\\\n",
    "    .withColumn(\"Visibility(mi)\",df['Visibility(mi)'].cast(DoubleType()))\n",
    "df.printSchema()"
   ]
  },
  {
   "cell_type": "code",
   "execution_count": 5,
   "metadata": {},
   "outputs": [
    {
     "data": {
      "text/plain": [
       "2816332"
      ]
     },
     "execution_count": 5,
     "metadata": {},
     "output_type": "execute_result"
    }
   ],
   "source": [
    "df = df.dropna()\n",
    "df.count()"
   ]
  },
  {
   "cell_type": "code",
   "execution_count": 6,
   "metadata": {},
   "outputs": [
    {
     "name": "stdout",
     "output_type": "stream",
     "text": [
      "+----+------------------+-------------------+--------------+-----------+------------+--------------+\n",
      "|  ID|         Start_Lat|          Start_Lng|Temperature(F)|Humidity(%)|Pressure(in)|Visibility(mi)|\n",
      "+----+------------------+-------------------+--------------+-----------+------------+--------------+\n",
      "| A-1|         34.808868| -82.26915699999999|          76.0|       52.0|       28.91|          10.0|\n",
      "| A-2|          35.09008|          -80.74556|          76.0|       62.0|        29.3|          10.0|\n",
      "| A-3|          37.14573|        -121.985052|          51.0|       80.0|       30.17|          10.0|\n",
      "| A-4|          39.11039|        -119.773781|          53.6|       16.0|       30.16|          10.0|\n",
      "| A-5|26.102942000000002|         -80.265091|          84.2|       84.0|       29.92|          10.0|\n",
      "| A-6|35.348240000000004| -80.84722099999999|          73.4|       33.0|       30.17|          10.0|\n",
      "| A-7|          39.52397|           -107.777|          28.0|       88.0|       24.67|           2.0|\n",
      "| A-8|         34.034017|        -118.026972|          55.0|       40.0|       29.86|          10.0|\n",
      "| A-9|35.863490000000006|          -86.83168|          87.1|       43.0|       30.04|          10.0|\n",
      "|A-10|          34.42633|          -118.5851|          57.0|       77.0|       29.08|           5.0|\n",
      "|A-11|         28.021709|         -82.203583|          57.0|       88.0|       30.05|          10.0|\n",
      "|A-12|40.912209999999995|         -73.875099|          32.0|       61.0|        30.0|          10.0|\n",
      "|A-13|32.866929999999996|          -96.66617|          64.4|       32.0|       30.37|          10.0|\n",
      "|A-14|         32.265141|-110.90358700000002|          97.7|       16.0|        29.8|          10.0|\n",
      "|A-15|          41.05982|          -74.25092|          72.0|       71.0|        30.0|          10.0|\n",
      "|A-16|29.723339000000003|         -95.497337|          77.0|       71.0|        29.6|          10.0|\n",
      "|A-17|         34.103172|        -118.249969|          78.1|       60.0|       29.99|          10.0|\n",
      "|A-18|34.186595000000004|        -117.439427|          75.0|       26.0|       28.98|           9.0|\n",
      "|A-19|         42.501929|         -82.918056|          47.0|       66.0|       29.38|           7.0|\n",
      "|A-20|         41.556862|         -73.779556|          45.0|       63.0|       29.59|          10.0|\n",
      "+----+------------------+-------------------+--------------+-----------+------------+--------------+\n",
      "only showing top 20 rows\n",
      "\n"
     ]
    }
   ],
   "source": [
    "import numpy as np\n",
    "df.show()"
   ]
  }
 ],
 "metadata": {
  "kernelspec": {
   "display_name": "Python 3",
   "language": "python",
   "name": "python3"
  },
  "language_info": {
   "codemirror_mode": {
    "name": "ipython",
    "version": 3
   },
   "file_extension": ".py",
   "mimetype": "text/x-python",
   "name": "python",
   "nbconvert_exporter": "python",
   "pygments_lexer": "ipython3",
   "version": "3.8.5"
  }
 },
 "nbformat": 4,
 "nbformat_minor": 4
}
